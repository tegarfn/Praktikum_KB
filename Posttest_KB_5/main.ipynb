{
 "cells": [
  {
   "cell_type": "markdown",
   "metadata": {},
   "source": [
    "<h1>\n",
    "    <b>POSTTEST 5</b>\n",
    "</h1>\n",
    "<h3>\n",
    "    Kecerdasan Buatan\n",
    "</h3>\n",
    "\n",
    "<p>\n",
    "    Nama : Tegar Fitrah Naba Atthoriq\n",
    "    <br>\n",
    "    NIM : 2009106085\n",
    "</p>\n",
    "<hr>"
   ]
  },
  {
   "cell_type": "markdown",
   "metadata": {},
   "source": [
    "<h2>\n",
    "    <b>Supervised Learning</b>\n",
    "</h2>\n",
    "\n",
    "<p>sebelum masuk ke posttest, ada beberapa hal yang perlu dilakukan, yaitu :</p>\n",
    "<p>\n",
    "    a. Import library yang akan digunakan untuk posttest kali ini\n",
    "</p>"
   ]
  },
  {
   "cell_type": "code",
   "execution_count": 29,
   "metadata": {},
   "outputs": [],
   "source": [
    "import pandas as pd\n",
    "import numpy as np\n",
    "import matplotlib.pyplot as plt\n",
    "\n",
    "from sklearn.model_selection import train_test_split\n",
    "\n",
    "from sklearn.naive_bayes import GaussianNB\n",
    "from sklearn.neighbors import KNeighborsClassifier\n",
    "from sklearn.metrics import accuracy_score"
   ]
  },
  {
   "cell_type": "markdown",
   "metadata": {},
   "source": [
    "<p>b. Membaca dataframe</p>"
   ]
  },
  {
   "cell_type": "code",
   "execution_count": 30,
   "metadata": {},
   "outputs": [
    {
     "name": "stderr",
     "output_type": "stream",
     "text": [
      "C:\\Users\\Tegar\\AppData\\Local\\Temp\\ipykernel_2876\\2167922700.py:1: DtypeWarning: Columns (25) have mixed types. Specify dtype option on import or set low_memory=False.\n",
      "  df = pd.read_csv('Airbnb_Open_Data.csv')\n"
     ]
    }
   ],
   "source": [
    "df = pd.read_csv('Airbnb_Open_Data.csv')"
   ]
  },
  {
   "cell_type": "markdown",
   "metadata": {},
   "source": [
    "<p>c. Cleaning data</p>"
   ]
  },
  {
   "cell_type": "code",
   "execution_count": 31,
   "metadata": {},
   "outputs": [],
   "source": [
    "from sklearn.impute import SimpleImputer\n",
    "\n",
    "imputer_mean = SimpleImputer(strategy='mean')\n",
    "imputer_median = SimpleImputer(strategy='median')\n",
    "imputer_modus = SimpleImputer(strategy='most_frequent')\n",
    "\n",
    "# untuk float\n",
    "df['host id'] = imputer_mean.fit_transform(df[['host id']])\n",
    "df['lat'] = imputer_mean.fit_transform(df[['lat']])\n",
    "df['long'] = imputer_mean.fit_transform(df[['long']])\n",
    "df['Construction year'] = imputer_mean.fit_transform(df[['Construction year']])\n",
    "df['minimum nights'] = imputer_mean.fit_transform(df[['minimum nights']])\n",
    "df['number of reviews'] = imputer_mean.fit_transform(df[['number of reviews']])\n",
    "df['reviews per month'] = imputer_mean.fit_transform(df[['reviews per month']])\n",
    "df['review rate number'] = imputer_mean.fit_transform(df[['review rate number']])\n",
    "df['calculated host listings count'] = imputer_mean.fit_transform(df[['calculated host listings count']])\n",
    "df['availability 365'] = imputer_mean.fit_transform(df[['availability 365']])\n",
    "\n",
    "# unuk integer\n",
    "df['host id'] = imputer_median.fit_transform(df[['host id']])\n",
    "\n",
    "# untuk object\n",
    "df['NAME'] = imputer_modus.fit_transform(df[['NAME']])\n",
    "df['host_identity_verified'] = imputer_modus.fit_transform(df[['host_identity_verified']])\n",
    "df['host name'] = imputer_modus.fit_transform(df[['host name']])\n",
    "df['neighbourhood group'] = imputer_modus.fit_transform(df[['neighbourhood group']])\n",
    "df['neighbourhood'] = imputer_modus.fit_transform(df[['neighbourhood']])\n",
    "df['country'] = imputer_modus.fit_transform(df[['country']])\n",
    "df['country code'] = imputer_modus.fit_transform(df[['country code']])\n",
    "df['instant_bookable'] = imputer_modus.fit_transform(df[['instant_bookable']])\n",
    "df['cancellation_policy'] = imputer_modus.fit_transform(df[['cancellation_policy']])\n",
    "df['room type'] = imputer_modus.fit_transform(df[['room type']])\n",
    "df['price'] = imputer_modus.fit_transform(df[['price']])\n",
    "df['service fee'] = imputer_modus.fit_transform(df[['service fee']])\n",
    "df['last review'] = imputer_modus.fit_transform(df[['last review']])\n",
    "df['house_rules'] = imputer_modus.fit_transform(df[['house_rules']])\n",
    "df['license'] = imputer_modus.fit_transform(df[['license']])"
   ]
  },
  {
   "cell_type": "markdown",
   "metadata": {},
   "source": [
    "<p>d. Splitting data</p>"
   ]
  },
  {
   "cell_type": "code",
   "execution_count": 32,
   "metadata": {},
   "outputs": [],
   "source": [
    "data_x = df[['lat','long','Construction year','minimum nights','number of reviews','reviews per month','review rate number','calculated host listings count','availability 365']]\n",
    "label_y = df['license']"
   ]
  },
  {
   "cell_type": "code",
   "execution_count": 33,
   "metadata": {},
   "outputs": [],
   "source": [
    "x_train, x_test, y_train, y_test = train_test_split(data_x,label_y,test_size=.2)"
   ]
  },
  {
   "cell_type": "markdown",
   "metadata": {},
   "source": [
    "<h3><b>1. Naive-Bayes</b></h3>"
   ]
  },
  {
   "cell_type": "code",
   "execution_count": 35,
   "metadata": {},
   "outputs": [
    {
     "name": "stdout",
     "output_type": "stream",
     "text": [
      "Skor Naive Bayes : 1.0\n"
     ]
    }
   ],
   "source": [
    "nb = GaussianNB()\n",
    "nb.fit(x_train,y_train)\n",
    "nb_score = nb.score(x_test,y_test)\n",
    "print(\"Skor Naive Bayes :\", nb_score)"
   ]
  },
  {
   "cell_type": "markdown",
   "metadata": {},
   "source": [
    "<h3><b>2. K-Nearest Neighbor</b></h3>"
   ]
  },
  {
   "cell_type": "code",
   "execution_count": 34,
   "metadata": {},
   "outputs": [
    {
     "name": "stdout",
     "output_type": "stream",
     "text": [
      "Skor KNN :  1.0\n"
     ]
    }
   ],
   "source": [
    "knn = KNeighborsClassifier(n_neighbors=3, metric='euclidean')\n",
    "knn.fit(x_train,y_train)\n",
    "knn_score = knn.score(x_test,y_test)\n",
    "\n",
    "print(\"Skor KNN : \", knn_score)"
   ]
  },
  {
   "cell_type": "markdown",
   "metadata": {},
   "source": [
    "<h3><b>3. Perbandingan Skor</b></h3>"
   ]
  },
  {
   "cell_type": "code",
   "execution_count": 44,
   "metadata": {},
   "outputs": [
    {
     "name": "stdout",
     "output_type": "stream",
     "text": [
      "Naive Bayes dan KNN memiliki skor yang sama, yaitu \n",
      "Naive bayes : 1.0\n",
      "KNN : 1.0\n"
     ]
    }
   ],
   "source": [
    "if nb_score > knn_score:\n",
    "    print(\"Naive bayes memiliki skor yang lebih baik, \\nyaitu sebesar : \", nb_score)\n",
    "elif nb_score < knn_score:\n",
    "    print(\"K-Nearest Neighbor memiliki skor yang lebih baik, \\nyaitu sebesar : \", knn_score)\n",
    "elif nb_score == knn_score:\n",
    "    print(\"Naive Bayes dan KNN memiliki skor yang sama, yaitu \\nNaive bayes : {}\\nKNN : {}\".format(nb_score, knn_score))"
   ]
  }
 ],
 "metadata": {
  "kernelspec": {
   "display_name": "Python 3.10.6 ('venv')",
   "language": "python",
   "name": "python3"
  },
  "language_info": {
   "codemirror_mode": {
    "name": "ipython",
    "version": 3
   },
   "file_extension": ".py",
   "mimetype": "text/x-python",
   "name": "python",
   "nbconvert_exporter": "python",
   "pygments_lexer": "ipython3",
   "version": "3.10.6"
  },
  "orig_nbformat": 4,
  "vscode": {
   "interpreter": {
    "hash": "b34f73f2b31b3f0c7d40c00fb2e956f666bedf3782ed8c409c338a23b6eb547a"
   }
  }
 },
 "nbformat": 4,
 "nbformat_minor": 2
}
