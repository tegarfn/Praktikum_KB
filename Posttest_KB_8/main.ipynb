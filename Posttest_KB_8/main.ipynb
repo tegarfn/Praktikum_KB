{
 "cells": [
  {
   "cell_type": "markdown",
   "metadata": {},
   "source": [
    "<h1>\n",
    "    <b>POSTTEST 8</b>\n",
    "</h1>\n",
    "<h3>\n",
    "    Kecerdasan Buatan\n",
    "</h3>\n",
    "\n",
    "<p>\n",
    "    Nama : Tegar Fitrah Naba Atthoriq\n",
    "    <br>\n",
    "    NIM : 2009106085\n",
    "</p>\n",
    "<p>\n",
    "    <a href=\"https://www.kaggle.com/datasets/brsdincer/pulsar-classification-for-class-prediction\">Link Dataset</a>\n",
    "</p>\n",
    "<hr>"
   ]
  },
  {
   "cell_type": "markdown",
   "metadata": {},
   "source": [
    "<h2>\n",
    "    <b>Deep Learning</b>\n",
    "</h2>\n",
    "<p>\n",
    "    sebelum masuk ke posttest kali ini, ada beberapa hal yang perlu dilakukan yaitu :\n",
    "</p>\n",
    "<p>\n",
    "    a. Import library yang akan digunakan untuk posttest kali ini\n",
    "</p>"
   ]
  },
  {
   "cell_type": "code",
   "execution_count": 323,
   "metadata": {},
   "outputs": [],
   "source": [
    "import pandas as pd\n",
    "import numpy as np\n",
    "import tensorflow as tf\n",
    "from sklearn.impute import SimpleImputer\n",
    "from sklearn.model_selection import train_test_split\n",
    "import matplotlib.pyplot as plt"
   ]
  },
  {
   "cell_type": "markdown",
   "metadata": {},
   "source": [
    "<p>b. Membaca dataframe</p>"
   ]
  },
  {
   "cell_type": "code",
   "execution_count": 324,
   "metadata": {},
   "outputs": [],
   "source": [
    "df = pd.read_csv('pulsar.csv')"
   ]
  },
  {
   "cell_type": "markdown",
   "metadata": {},
   "source": [
    "<p>d. Splitting data</p>"
   ]
  },
  {
   "cell_type": "code",
   "execution_count": 325,
   "metadata": {},
   "outputs": [],
   "source": [
    "data_x = df[['Mean_Integrated', 'SD', 'EK', 'Skewness', 'Mean_DMSNR_Curve', 'SD_DMSNR_Curve', 'EK_DMSNR_Curve', 'Skewness_DMSNR_Curve', 'Class']]\n",
    "\n",
    "data_y = df['Class']\n"
   ]
  },
  {
   "cell_type": "code",
   "execution_count": 326,
   "metadata": {},
   "outputs": [],
   "source": [
    "x_train, x_test, y_train, y_test = train_test_split(data_x, data_y, random_state=0, test_size=.2)"
   ]
  },
  {
   "cell_type": "code",
   "execution_count": 327,
   "metadata": {},
   "outputs": [
    {
     "name": "stdout",
     "output_type": "stream",
     "text": [
      "[1. 0.]\n"
     ]
    }
   ],
   "source": [
    "num_class = 2\n",
    "y_train = tf.keras.utils.to_categorical(y_train, num_class)\n",
    "y_test = tf.keras.utils.to_categorical(y_test, num_class)\n",
    "print(y_train[0])\n"
   ]
  },
  {
   "cell_type": "markdown",
   "metadata": {},
   "source": [
    "<h3><b>1. Membuat Sequential Model</b></h3>"
   ]
  },
  {
   "cell_type": "code",
   "execution_count": 328,
   "metadata": {},
   "outputs": [
    {
     "name": "stdout",
     "output_type": "stream",
     "text": [
      "Model: \"sequential_35\"\n",
      "_________________________________________________________________\n",
      " Layer (type)                Output Shape              Param #   \n",
      "=================================================================\n",
      " dense_62 (Dense)            (None, 16)                160       \n",
      "                                                                 \n",
      " dense_63 (Dense)            (None, 2)                 34        \n",
      "                                                                 \n",
      "=================================================================\n",
      "Total params: 194\n",
      "Trainable params: 194\n",
      "Non-trainable params: 0\n",
      "_________________________________________________________________\n"
     ]
    }
   ],
   "source": [
    "model = tf.keras.Sequential([\n",
    "    tf.keras.layers.Dense(16, activation='relu', input_dim=9),\n",
    "    tf.keras.layers.Dense(num_class, activation='softmax')\n",
    "])\n",
    "model.summary()"
   ]
  },
  {
   "cell_type": "markdown",
   "metadata": {},
   "source": [
    "<h3><b>2. Compile Model</b></h3>"
   ]
  },
  {
   "cell_type": "code",
   "execution_count": 329,
   "metadata": {},
   "outputs": [],
   "source": [
    "model.compile(\n",
    "    optimizer=tf.keras.optimizers.Adam(),\n",
    "    loss=tf.keras.losses.categorical_crossentropy,\n",
    "    metrics=['accuracy']\n",
    ")"
   ]
  },
  {
   "cell_type": "markdown",
   "metadata": {},
   "source": [
    "<h3><b>3. Training Model</b></h3>"
   ]
  },
  {
   "cell_type": "code",
   "execution_count": 330,
   "metadata": {},
   "outputs": [
    {
     "name": "stdout",
     "output_type": "stream",
     "text": [
      "Epoch 1/10\n",
      "50/50 [==============================] - 0s 4ms/step - loss: 3.6000 - accuracy: 0.8613 - val_loss: 1.4327 - val_accuracy: 0.8701\n",
      "Epoch 2/10\n",
      "50/50 [==============================] - 0s 2ms/step - loss: 0.7156 - accuracy: 0.9130 - val_loss: 0.2814 - val_accuracy: 0.9547\n",
      "Epoch 3/10\n",
      "50/50 [==============================] - 0s 2ms/step - loss: 0.2768 - accuracy: 0.9563 - val_loss: 0.2259 - val_accuracy: 0.9626\n",
      "Epoch 4/10\n",
      "50/50 [==============================] - 0s 2ms/step - loss: 0.2209 - accuracy: 0.9603 - val_loss: 0.1848 - val_accuracy: 0.9651\n",
      "Epoch 5/10\n",
      "50/50 [==============================] - 0s 2ms/step - loss: 0.1921 - accuracy: 0.9633 - val_loss: 0.1609 - val_accuracy: 0.9690\n",
      "Epoch 6/10\n",
      "50/50 [==============================] - 0s 2ms/step - loss: 0.1759 - accuracy: 0.9661 - val_loss: 0.1416 - val_accuracy: 0.9707\n",
      "Epoch 7/10\n",
      "50/50 [==============================] - 0s 2ms/step - loss: 0.1580 - accuracy: 0.9672 - val_loss: 0.1292 - val_accuracy: 0.9729\n",
      "Epoch 8/10\n",
      "50/50 [==============================] - 0s 2ms/step - loss: 0.1461 - accuracy: 0.9687 - val_loss: 0.1199 - val_accuracy: 0.9757\n",
      "Epoch 9/10\n",
      "50/50 [==============================] - 0s 2ms/step - loss: 0.1359 - accuracy: 0.9700 - val_loss: 0.1076 - val_accuracy: 0.9760\n",
      "Epoch 10/10\n",
      "50/50 [==============================] - 0s 2ms/step - loss: 0.1261 - accuracy: 0.9703 - val_loss: 0.1039 - val_accuracy: 0.9774\n"
     ]
    },
    {
     "data": {
      "text/plain": [
       "<keras.callbacks.History at 0x200c7e74a30>"
      ]
     },
     "execution_count": 330,
     "metadata": {},
     "output_type": "execute_result"
    }
   ],
   "source": [
    "model.fit(\n",
    "    x_train,  \n",
    "    y_train,\n",
    "    validation_data = (x_test, y_test),\n",
    "    epochs = 10,\n",
    "    steps_per_epoch = 50,\n",
    ")"
   ]
  }
 ],
 "metadata": {
  "kernelspec": {
   "display_name": "Python 3.10.6 ('venv')",
   "language": "python",
   "name": "python3"
  },
  "language_info": {
   "codemirror_mode": {
    "name": "ipython",
    "version": 3
   },
   "file_extension": ".py",
   "mimetype": "text/x-python",
   "name": "python",
   "nbconvert_exporter": "python",
   "pygments_lexer": "ipython3",
   "version": "3.10.6"
  },
  "orig_nbformat": 4,
  "vscode": {
   "interpreter": {
    "hash": "b34f73f2b31b3f0c7d40c00fb2e956f666bedf3782ed8c409c338a23b6eb547a"
   }
  }
 },
 "nbformat": 4,
 "nbformat_minor": 2
}
