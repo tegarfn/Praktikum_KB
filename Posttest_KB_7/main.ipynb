{
 "cells": [
  {
   "cell_type": "markdown",
   "metadata": {},
   "source": [
    "<h1>\n",
    "    <b>POSTTEST 7</b>\n",
    "</h1>\n",
    "<h3>\n",
    "    Kecerdasan Buatan\n",
    "</h3>\n",
    "\n",
    "<p>\n",
    "    Nama : Tegar Fitrah Naba Atthoriq\n",
    "    <br>\n",
    "    NIM : 2009106085\n",
    "</p>\n",
    "<hr>"
   ]
  },
  {
   "cell_type": "markdown",
   "metadata": {},
   "source": [
    "<h2>\n",
    "    <b>Tensorflow Basic</b>\n",
    "</h2>\n",
    "<p>\n",
    "    sebelum masuk ke posttest kali ini, ada beberapa hal yang perlu dilakukan yaitu :\n",
    "</p>\n",
    "<p>\n",
    "    a. Import library yang akan digunakan untuk posttest kali ini\n",
    "</p>"
   ]
  },
  {
   "cell_type": "code",
   "execution_count": 16,
   "metadata": {},
   "outputs": [],
   "source": [
    "import tensorflow as tf"
   ]
  },
  {
   "cell_type": "markdown",
   "metadata": {},
   "source": [
    "<h3><b>1. Membuat Tensor</b></h3>\n",
    "\n",
    "<p>\n",
    "    a. Nilai random\n",
    "</p>"
   ]
  },
  {
   "cell_type": "code",
   "execution_count": 17,
   "metadata": {},
   "outputs": [
    {
     "data": {
      "text/plain": [
       "<tf.Tensor: shape=(5, 5), dtype=float32, numpy=\n",
       "array([[-0.28433853,  0.8922832 ,  0.8983451 ,  0.7163981 ,  0.34969485],\n",
       "       [-0.37960768,  0.01531979,  0.27423722, -2.214901  , -0.08514621],\n",
       "       [ 1.0113182 ,  0.6616626 ,  1.383323  , -0.40465203,  0.86142987],\n",
       "       [-0.12589967, -1.418615  ,  2.0295074 ,  0.15304402,  0.13658497],\n",
       "       [-0.49787143,  0.38847125, -0.4244715 ,  0.46214256, -0.5444318 ]],\n",
       "      dtype=float32)>"
      ]
     },
     "execution_count": 17,
     "metadata": {},
     "output_type": "execute_result"
    }
   ],
   "source": [
    "random_tensor = tf.random.normal([5,5], mean=0, stddev=1.0, seed=1)\n",
    "random_tensor"
   ]
  },
  {
   "cell_type": "markdown",
   "metadata": {},
   "source": [
    "<p>\n",
    "    a. Nilai random\n",
    "</p>"
   ]
  },
  {
   "cell_type": "code",
   "execution_count": 18,
   "metadata": {},
   "outputs": [
    {
     "data": {
      "text/plain": [
       "<tf.Tensor: shape=(5, 5), dtype=float32, numpy=\n",
       "array([[ 2.,  3.,  5.,  7., 11.],\n",
       "       [13., 17., 19., 23., 29.],\n",
       "       [31., 37., 41., 43., 47.],\n",
       "       [53., 59., 61., 67., 71.],\n",
       "       [73., 79., 83., 89., 97.]], dtype=float32)>"
      ]
     },
     "execution_count": 18,
     "metadata": {},
     "output_type": "execute_result"
    }
   ],
   "source": [
    "pri_list = [[2, 3, 5, 7, 11],\n",
    "            [13, 17, 19, 23, 29],\n",
    "            [31, 37, 41, 43, 47],\n",
    "            [53, 59, 61, 67, 71],\n",
    "            [73, 79, 83, 89, 97]]\n",
    "\n",
    "prime_tensor = tf.convert_to_tensor(pri_list, dtype=tf.float32)\n",
    "prime_tensor"
   ]
  },
  {
   "cell_type": "markdown",
   "metadata": {},
   "source": [
    "<h3><b>3. Menampilkan Dimensi</b></h3>"
   ]
  },
  {
   "cell_type": "code",
   "execution_count": 19,
   "metadata": {},
   "outputs": [
    {
     "name": "stdout",
     "output_type": "stream",
     "text": [
      "(5, 5)\n",
      "(5, 5)\n"
     ]
    }
   ],
   "source": [
    "print(random_tensor.get_shape())\n",
    "print(prime_tensor.get_shape())"
   ]
  },
  {
   "cell_type": "markdown",
   "metadata": {},
   "source": [
    "<h3><b>4. Proses Aritmetika</b></h3>"
   ]
  },
  {
   "cell_type": "code",
   "execution_count": 20,
   "metadata": {},
   "outputs": [
    {
     "name": "stdout",
     "output_type": "stream",
     "text": [
      "Penjumlahan :\n",
      " tf.Tensor(\n",
      "[[ 1.7156615  3.8922832  5.898345   7.7163982 11.349695 ]\n",
      " [12.620392  17.01532   19.274237  20.785099  28.914854 ]\n",
      " [32.01132   37.661663  42.383324  42.59535   47.86143  ]\n",
      " [52.8741    57.581387  63.029507  67.153046  71.13658  ]\n",
      " [72.50213   79.38847   82.57553   89.46214   96.45557  ]], shape=(5, 5), dtype=float32)\n",
      "Pengurangan :\n",
      " tf.Tensor(\n",
      "[[ -2.2843385  -2.1077168  -4.101655   -6.2836018 -10.650305 ]\n",
      " [-13.379608  -16.98468   -18.725763  -25.214901  -29.085146 ]\n",
      " [-29.988682  -36.338337  -39.616676  -43.40465   -46.13857  ]\n",
      " [-53.1259    -60.418613  -58.970493  -66.846954  -70.86342  ]\n",
      " [-73.49787   -78.61153   -83.42447   -88.53786   -97.54443  ]], shape=(5, 5), dtype=float32)\n",
      "Perkalian :\n",
      " tf.Tensor(\n",
      "[[ -0.56867707   2.6768496    4.4917254    5.0147867    3.8466434 ]\n",
      " [ -4.9349       0.2604365    5.210507   -50.942722    -2.4692402 ]\n",
      " [ 31.350864    24.481516    56.71624    -17.400038    40.487206  ]\n",
      " [ -6.672683   -83.69828    123.79995     10.253949     9.697533  ]\n",
      " [-36.344616    30.689228   -35.231133    41.130688   -52.809887  ]], shape=(5, 5), dtype=float32)\n",
      "Pembagian :\n",
      " tf.Tensor(\n",
      "[[-0.14216927  0.29742774  0.17966902  0.10234259  0.03179044]\n",
      " [-0.02920059  0.00090116  0.01443354 -0.09630004 -0.00293608]\n",
      " [ 0.03262317  0.01788277  0.03373959 -0.00941051  0.0183283 ]\n",
      " [-0.00237547 -0.02404432  0.03327061  0.00228424  0.00192373]\n",
      " [-0.00682016  0.00491736 -0.00511411  0.00519261 -0.0056127 ]], shape=(5, 5), dtype=float32)\n",
      "Pangkat :\n",
      " tf.Tensor(\n",
      "[[ 8.08484033e-02  7.10408509e-01  5.85081041e-01  9.68458578e-02\n",
      "   9.56272288e-06]\n",
      " [-3.39902863e-06  1.41026244e-31  2.11057803e-11 -8.77302160e+07\n",
      "  -9.43614219e-32]\n",
      " [ 1.41749847e+00  2.30968737e-07  5.99607312e+05 -1.27207896e-17\n",
      "   9.02270083e-04]\n",
      " [-0.00000000e+00 -9.12027648e+08  5.63415762e+18  0.00000000e+00\n",
      "   0.00000000e+00]\n",
      " [-7.75453741e-23  3.62536196e-33 -1.29249318e-31  1.46238155e-30\n",
      "  -2.43510900e-26]], shape=(5, 5), dtype=float32)\n"
     ]
    }
   ],
   "source": [
    "print(\"Penjumlahan :\\n\", tf.add(random_tensor, prime_tensor))\n",
    "print(\"Pengurangan :\\n\", tf.subtract(random_tensor, prime_tensor))\n",
    "print(\"Perkalian :\\n\", tf.multiply(random_tensor, prime_tensor))\n",
    "print(\"Pembagian :\\n\", tf.divide(random_tensor, prime_tensor))\n",
    "print(\"Pangkat :\\n\", tf.pow(random_tensor, prime_tensor))"
   ]
  },
  {
   "cell_type": "markdown",
   "metadata": {},
   "source": [
    "<h3><b>5. Nilai Max dan Min</b></h3>"
   ]
  },
  {
   "cell_type": "code",
   "execution_count": 21,
   "metadata": {},
   "outputs": [
    {
     "name": "stdout",
     "output_type": "stream",
     "text": [
      "Nilai Max :  tf.Tensor([2 0 3 0 2], shape=(5,), dtype=int64)\n",
      "Nilai Min :  tf.Tensor([4 3 4 1 4], shape=(5,), dtype=int64)\n"
     ]
    }
   ],
   "source": [
    "print(\"Nilai Max : \", tf.argmax(random_tensor, axis=0))\n",
    "print(\"Nilai Min : \", tf.argmin(random_tensor, axis=0))"
   ]
  },
  {
   "cell_type": "markdown",
   "metadata": {},
   "source": [
    "<h3><b>6. Penggabungan</b></h3>"
   ]
  },
  {
   "cell_type": "code",
   "execution_count": 22,
   "metadata": {},
   "outputs": [
    {
     "name": "stdout",
     "output_type": "stream",
     "text": [
      "Hasil Penggabungan :\n",
      " tf.Tensor(\n",
      "[[-2.8433853e-01  8.9228320e-01  8.9834511e-01  7.1639812e-01\n",
      "   3.4969485e-01]\n",
      " [-3.7960768e-01  1.5319794e-02  2.7423722e-01 -2.2149010e+00\n",
      "  -8.5146211e-02]\n",
      " [ 1.0113182e+00  6.6166258e-01  1.3833230e+00 -4.0465203e-01\n",
      "   8.6142987e-01]\n",
      " [-1.2589967e-01 -1.4186150e+00  2.0295074e+00  1.5304402e-01\n",
      "   1.3658497e-01]\n",
      " [-4.9787143e-01  3.8847125e-01 -4.2447150e-01  4.6214256e-01\n",
      "  -5.4443181e-01]\n",
      " [ 2.0000000e+00  3.0000000e+00  5.0000000e+00  7.0000000e+00\n",
      "   1.1000000e+01]\n",
      " [ 1.3000000e+01  1.7000000e+01  1.9000000e+01  2.3000000e+01\n",
      "   2.9000000e+01]\n",
      " [ 3.1000000e+01  3.7000000e+01  4.1000000e+01  4.3000000e+01\n",
      "   4.7000000e+01]\n",
      " [ 5.3000000e+01  5.9000000e+01  6.1000000e+01  6.7000000e+01\n",
      "   7.1000000e+01]\n",
      " [ 7.3000000e+01  7.9000000e+01  8.3000000e+01  8.9000000e+01\n",
      "   9.7000000e+01]], shape=(10, 5), dtype=float32)\n"
     ]
    }
   ],
   "source": [
    "print(\"Hasil Penggabungan :\\n\", tf.concat([random_tensor, prime_tensor], axis=0))"
   ]
  },
  {
   "cell_type": "markdown",
   "metadata": {},
   "source": [
    "<h3><b>7. Sorting (Descending)</b></h3>"
   ]
  },
  {
   "cell_type": "code",
   "execution_count": 23,
   "metadata": {},
   "outputs": [
    {
     "name": "stdout",
     "output_type": "stream",
     "text": [
      "tf.Tensor(\n",
      "[[ 0.8983451   0.8922832   0.7163981   0.34969485 -0.28433853]\n",
      " [ 0.27423722  0.01531979 -0.08514621 -0.37960768 -2.214901  ]\n",
      " [ 1.383323    1.0113182   0.86142987  0.6616626  -0.40465203]\n",
      " [ 2.0295074   0.15304402  0.13658497 -0.12589967 -1.418615  ]\n",
      " [ 0.46214256  0.38847125 -0.4244715  -0.49787143 -0.5444318 ]], shape=(5, 5), dtype=float32)\n",
      "tf.Tensor(\n",
      "[[11.  7.  5.  3.  2.]\n",
      " [29. 23. 19. 17. 13.]\n",
      " [47. 43. 41. 37. 31.]\n",
      " [71. 67. 61. 59. 53.]\n",
      " [97. 89. 83. 79. 73.]], shape=(5, 5), dtype=float32)\n"
     ]
    }
   ],
   "source": [
    "print(tf.sort(random_tensor, direction='DESCENDING', axis=1))\n",
    "print(tf.sort(prime_tensor, direction='DESCENDING', axis=1))"
   ]
  }
 ],
 "metadata": {
  "kernelspec": {
   "display_name": "Python 3.10.6 ('venv')",
   "language": "python",
   "name": "python3"
  },
  "language_info": {
   "codemirror_mode": {
    "name": "ipython",
    "version": 3
   },
   "file_extension": ".py",
   "mimetype": "text/x-python",
   "name": "python",
   "nbconvert_exporter": "python",
   "pygments_lexer": "ipython3",
   "version": "3.10.6"
  },
  "orig_nbformat": 4,
  "vscode": {
   "interpreter": {
    "hash": "b34f73f2b31b3f0c7d40c00fb2e956f666bedf3782ed8c409c338a23b6eb547a"
   }
  }
 },
 "nbformat": 4,
 "nbformat_minor": 2
}
